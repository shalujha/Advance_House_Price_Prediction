{
  "nbformat": 4,
  "nbformat_minor": 0,
  "metadata": {
    "colab": {
      "name": "closed_form_solution_of_linear_Regression.ipynb",
      "provenance": [],
      "authorship_tag": "ABX9TyOnZc8dHEfo+2DZBD5/bsyd",
      "include_colab_link": true
    },
    "kernelspec": {
      "name": "python3",
      "display_name": "Python 3"
    }
  },
  "cells": [
    {
      "cell_type": "markdown",
      "metadata": {
        "id": "view-in-github",
        "colab_type": "text"
      },
      "source": [
        "<a href=\"https://colab.research.google.com/github/shalujha/Advance_House_Price_Prediction/blob/main/closed_form_solution_of_linear_Regression.ipynb\" target=\"_parent\"><img src=\"https://colab.research.google.com/assets/colab-badge.svg\" alt=\"Open In Colab\"/></a>"
      ]
    },
    {
      "cell_type": "code",
      "metadata": {
        "id": "sitkaR5O1tVq"
      },
      "source": [
        "import matplotlib.pyplot as plt\r\n",
        "import pandas as pd\r\n",
        "import numpy as np\r\n",
        "from sklearn.datasets import make_regression"
      ],
      "execution_count": 110,
      "outputs": []
    },
    {
      "cell_type": "code",
      "metadata": {
        "colab": {
          "base_uri": "https://localhost:8080/"
        },
        "id": "8M7SRk_k16xt",
        "outputId": "acfc8c0c-0e64-462f-cd0c-f6c82008bf37"
      },
      "source": [
        "X,Y=make_regression(n_samples=2000,n_features=1,n_informative=1,shuffle=True,random_state=10)\r\n",
        "print(X.shape,Y.shape)"
      ],
      "execution_count": 132,
      "outputs": [
        {
          "output_type": "stream",
          "text": [
            "(2000, 1) (2000,)\n"
          ],
          "name": "stdout"
        }
      ]
    },
    {
      "cell_type": "code",
      "metadata": {
        "colab": {
          "base_uri": "https://localhost:8080/",
          "height": 265
        },
        "id": "qsNhqu152NUi",
        "outputId": "b37c1dd2-4f9e-4857-cfd7-beda2f430ef8"
      },
      "source": [
        "plt.scatter(X,Y,c='green')\r\n",
        "plt.show()"
      ],
      "execution_count": 133,
      "outputs": [
        {
          "output_type": "display_data",
          "data": {
            "image/png": "[encoded data removed]",
            "text/plain": [
              "<Figure size 432x288 with 1 Axes>"
            ]
          },
          "metadata": {
            "tags": [],
            "needs_background": "light"
          }
        }
      ]
    },
    {
      "cell_type": "code",
      "metadata": {
        "id": "qSRmU-0x3dWA"
      },
      "source": [
        "# some Preprocessing:\r\n",
        "# normalisation:\r\n",
        "from sklearn.preprocessing import StandardScaler\r\n",
        "scaler=StandardScaler()\r\n",
        "X_transformed=scaler.fit_transform(X)"
      ],
      "execution_count": 134,
      "outputs": []
    },
    {
      "cell_type": "code",
      "metadata": {
        "colab": {
          "base_uri": "https://localhost:8080/"
        },
        "id": "oKewxgUK4fZm",
        "outputId": "ae80dbfe-e15d-498f-d5e0-c8770e9446cc"
      },
      "source": [
        "print(X_transformed.shape,Y.shape)"
      ],
      "execution_count": 135,
      "outputs": [
        {
          "output_type": "stream",
          "text": [
            "(2000, 1) (2000,)\n"
          ],
          "name": "stdout"
        }
      ]
    },
    {
      "cell_type": "code",
      "metadata": {
        "colab": {
          "base_uri": "https://localhost:8080/",
          "height": 265
        },
        "id": "W9LaX4QT4KbR",
        "outputId": "f6c3db94-3494-4dd3-aa2e-64bfdb267af5"
      },
      "source": [
        "plt.scatter(X_transformed,Y,c='red')\r\n",
        "plt.show()"
      ],
      "execution_count": 136,
      "outputs": [
        {
          "output_type": "display_data",
          "data": {
            "image/png": "[encoded data removed]",
            "text/plain": [
              "<Figure size 432x288 with 1 Axes>"
            ]
          },
          "metadata": {
            "tags": [],
            "needs_background": "light"
          }
        }
      ]
    },
    {
      "cell_type": "code",
      "metadata": {
        "colab": {
          "base_uri": "https://localhost:8080/"
        },
        "id": "VV2no-jE7gpp",
        "outputId": "02972a9b-c685-4f6d-d3b2-ba8ef09c0dae"
      },
      "source": [
        "ones=np.ones((X_transformed.shape[0],1))\r\n",
        "X_=np.concatenate((ones,X_transformed),axis=1)\r\n",
        "print(X_.shape)\r\n",
        "print(X_)"
      ],
      "execution_count": 137,
      "outputs": [
        {
          "output_type": "stream",
          "text": [
            "(2000, 2)\n",
            "[[ 1.          0.31229105]\n",
            " [ 1.         -1.79348237]\n",
            " [ 1.         -0.10286506]\n",
            " ...\n",
            " [ 1.          0.59444094]\n",
            " [ 1.         -0.34256901]\n",
            " [ 1.          0.23412985]]\n"
          ],
          "name": "stdout"
        }
      ]
    },
    {
      "cell_type": "code",
      "metadata": {
        "id": "wNRi13d27fqd"
      },
      "source": [
        ""
      ],
      "execution_count": 137,
      "outputs": []
    },
    {
      "cell_type": "code",
      "metadata": {
        "id": "hZyzFwMg2Tw0"
      },
      "source": [
        "# lets Perform Linear Regression using closed Form solution:\r\n",
        "# closed Form Solution : theta=inverse((transpose(X)*X))*transpose(X)*Y\r\n",
        "def hypothesis(theta,X):\r\n",
        "  return np.dot(X,theta)\r\n",
        "def get_closed_form_theta(X,Y):\r\n",
        "  #print(X.shape,Y.shape)\r\n",
        "  #Y=np.asarray(Y)\r\n",
        "  #print(Y.shape)\r\n",
        "  first_part=np.dot(X.T,X)\r\n",
        "  print(first_part.shape)\r\n",
        "  second_part=np.dot(X.T,Y)\r\n",
        "  print(second_part.shape)\r\n",
        "  #print(np.linalg.pinv(first_part).shape)\r\n",
        "  #print('first_part')\r\n",
        "  #print(first_part)\r\n",
        "  #print('second_part')\r\n",
        "  #print(second_part)\r\n",
        "  return np.dot(np.linalg.pinv(first_part),second_part)"
      ],
      "execution_count": 145,
      "outputs": []
    },
    {
      "cell_type": "code",
      "metadata": {
        "colab": {
          "base_uri": "https://localhost:8080/"
        },
        "id": "9qlThmh86796",
        "outputId": "e5f2d69f-b154-415b-f23f-a38ed8021299"
      },
      "source": [
        "theta=get_closed_form_theta(X_,Y)\r\n",
        "#print('theta')\r\n",
        "print(theta)"
      ],
      "execution_count": 146,
      "outputs": [
        {
          "output_type": "stream",
          "text": [
            "(2, 2)\n",
            "(2,)\n",
            "[-0.07287335  5.49379244]\n"
          ],
          "name": "stdout"
        }
      ]
    },
    {
      "cell_type": "code",
      "metadata": {
        "colab": {
          "base_uri": "https://localhost:8080/",
          "height": 265
        },
        "id": "9wMmugcM6_SK",
        "outputId": "2bb0d804-e169-409e-e209-c2b5b77640eb"
      },
      "source": [
        "plt.scatter(X_transformed,Y,c='green')\r\n",
        "plt.plot(X_transformed,hypothesis(theta,X_),c='yellow',label=)\r\n",
        "plt.show()"
      ],
      "execution_count": 147,
      "outputs": [
        {
          "output_type": "display_data",
          "data": {
            "image/png": "[encoded data removed]",
            "text/plain": [
              "<Figure size 432x288 with 1 Axes>"
            ]
          },
          "metadata": {
            "tags": [],
            "needs_background": "light"
          }
        }
      ]
    },
    {
      "cell_type": "code",
      "metadata": {
        "colab": {
          "base_uri": "https://localhost:8080/",
          "height": 35
        },
        "id": "O2HXUNh39DWT",
        "outputId": "b7704b44-2933-40ab-ff64-c2914370ad5b"
      },
      "source": [
        "#print(X_transformed.shape,Y.shape)\r\n",
        "#print(X_transformed[:,1])\r\n",
        "'''\r\n",
        "plt.scatter(X_transformed[:,1],Y[:,0],c='green')\r\n",
        "plt.plot(X_transformed[:,1],hypothesis(theta,X_transformed),c='yellow')\r\n",
        "'''"
      ],
      "execution_count": 148,
      "outputs": [
        {
          "output_type": "execute_result",
          "data": {
            "application/vnd.google.colaboratory.intrinsic+json": {
              "type": "string"
            },
            "text/plain": [
              "\"\\nplt.scatter(X_transformed[:,1],Y[:,0],c='green')\\nplt.plot(X_transformed[:,1],hypothesis(theta,X_transformed),c='yellow')\\n\""
            ]
          },
          "metadata": {
            "tags": []
          },
          "execution_count": 148
        }
      ]
    },
    {
      "cell_type": "code",
      "metadata": {
        "id": "CiKupjwK9Oi7"
      },
      "source": [
        ""
      ],
      "execution_count": 148,
      "outputs": []
    },
    {
      "cell_type": "code",
      "metadata": {
        "id": "zDrAdiPe_VZB"
      },
      "source": [
        ""
      ],
      "execution_count": 148,
      "outputs": []
    },
    {
      "cell_type": "code",
      "metadata": {
        "id": "rodXSxXXHzK4"
      },
      "source": [
        ""
      ],
      "execution_count": 106,
      "outputs": []
    }
  ]
}